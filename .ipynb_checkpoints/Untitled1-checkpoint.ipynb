{
 "cells": [
  {
   "cell_type": "code",
   "execution_count": 1,
   "id": "senior-arabic",
   "metadata": {},
   "outputs": [],
   "source": [
    "import xml.etree.ElementTree as ET\n"
   ]
  },
  {
   "cell_type": "code",
   "execution_count": 6,
   "id": "attached-failing",
   "metadata": {},
   "outputs": [],
   "source": [
    "import xml.etree.cElementTree as ET\n",
    "\n",
    "root = ET.Element(\"speak\", version=\"1.0\", xmlns=\"https://www.w3.org/2001/10/synthesis\", xml:lang=\"pt-BR\")\n",
    "doc = ET.SubElement(root, \"voice\")\n",
    "\n",
    "ET.SubElement(doc, \"field1\", name=\"blah\").text = \"some value1\"\n",
    "ET.SubElement(doc, \"field2\", name=\"asdfasd\").text = \"some vlaue2\"\n",
    "\n",
    "tree = ET.ElementTree(root)\n",
    "tree.write(\"filename.xml\")"
   ]
  }
 ],
 "metadata": {
  "kernelspec": {
   "display_name": "Python 3",
   "language": "python",
   "name": "python3"
  },
  "language_info": {
   "codemirror_mode": {
    "name": "ipython",
    "version": 3
   },
   "file_extension": ".py",
   "mimetype": "text/x-python",
   "name": "python",
   "nbconvert_exporter": "python",
   "pygments_lexer": "ipython3",
   "version": "3.7.9"
  }
 },
 "nbformat": 4,
 "nbformat_minor": 5
}
